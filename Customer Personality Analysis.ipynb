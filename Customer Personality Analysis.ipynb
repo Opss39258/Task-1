{
 "cells": [
  {
   "cell_type": "code",
   "execution_count": 2,
   "id": "12b72944-2cad-448d-8568-a78c4c82fe85",
   "metadata": {},
   "outputs": [],
   "source": [
    "import pandas as pd\n",
    "\n",
    "# Load dataset\n",
    "df = pd.read_csv('marketing_campaign.csv', sep='\\t')"
   ]
  },
  {
   "cell_type": "code",
   "execution_count": 3,
   "id": "679b3e22-5d89-4a79-af95-9869c78fca7e",
   "metadata": {},
   "outputs": [
    {
     "name": "stdout",
     "output_type": "stream",
     "text": [
      "Missing values:\n",
      " ID                      0\n",
      "Year_Birth              0\n",
      "Education               0\n",
      "Marital_Status          0\n",
      "Income                 24\n",
      "Kidhome                 0\n",
      "Teenhome                0\n",
      "Dt_Customer             0\n",
      "Recency                 0\n",
      "MntWines                0\n",
      "MntFruits               0\n",
      "MntMeatProducts         0\n",
      "MntFishProducts         0\n",
      "MntSweetProducts        0\n",
      "MntGoldProds            0\n",
      "NumDealsPurchases       0\n",
      "NumWebPurchases         0\n",
      "NumCatalogPurchases     0\n",
      "NumStorePurchases       0\n",
      "NumWebVisitsMonth       0\n",
      "AcceptedCmp3            0\n",
      "AcceptedCmp4            0\n",
      "AcceptedCmp5            0\n",
      "AcceptedCmp1            0\n",
      "AcceptedCmp2            0\n",
      "Complain                0\n",
      "Z_CostContact           0\n",
      "Z_Revenue               0\n",
      "Response                0\n",
      "dtype: int64\n"
     ]
    }
   ],
   "source": [
    "# 1. Identify and handle missing values\n",
    "missing_values = df.isnull().sum()\n",
    "print(\"Missing values:\\n\", missing_values)"
   ]
  },
  {
   "cell_type": "code",
   "execution_count": 4,
   "id": "562c0b99-d259-464e-b8e3-fed325a41847",
   "metadata": {},
   "outputs": [],
   "source": [
    "# Example: Handle missing 'Income' values by filling with median\n",
    "df['Income'] = df['Income'].fillna(df['Income'].median())"
   ]
  },
  {
   "cell_type": "code",
   "execution_count": 5,
   "id": "47d6909e-8f0a-40cb-ba6e-027d471b784b",
   "metadata": {},
   "outputs": [],
   "source": [
    "# 2. Remove duplicate rows\n",
    "df = df.drop_duplicates()"
   ]
  },
  {
   "cell_type": "code",
   "execution_count": 6,
   "id": "db0e9737-93ba-450b-bec4-1f937f2def98",
   "metadata": {},
   "outputs": [],
   "source": [
    "# 3. Standardize text values\n",
    "# Strip and lowercase for categorical fields\n",
    "df['Education'] = df['Education'].str.strip().str.lower()\n",
    "df['Marital_Status'] = df['Marital_Status'].str.strip().str.lower()"
   ]
  },
  {
   "cell_type": "code",
   "execution_count": 7,
   "id": "5d96dc52-a1e6-4d5d-8b65-854f9be00a1c",
   "metadata": {},
   "outputs": [],
   "source": [
    "# 4. Convert date formats\n",
    "df['Dt_Customer'] = pd.to_datetime(df['Dt_Customer'], format='%d-%m-%Y')"
   ]
  },
  {
   "cell_type": "code",
   "execution_count": 8,
   "id": "1cd7ec25-4e88-4952-bbf4-b626168b80c7",
   "metadata": {},
   "outputs": [],
   "source": [
    "# 5. Rename columns to be clean and uniform\n",
    "df.columns = df.columns.str.strip().str.lower().str.replace(' ', '_')"
   ]
  },
  {
   "cell_type": "code",
   "execution_count": 10,
   "id": "259f3c66-8d80-4432-9494-707045e27fb7",
   "metadata": {},
   "outputs": [
    {
     "name": "stdout",
     "output_type": "stream",
     "text": [
      "Columns before cleaning: ['id', 'year_birth', 'education', 'marital_status', 'income', 'kidhome', 'teenhome', 'dt_customer', 'recency', 'mntwines', 'mntfruits', 'mntmeatproducts', 'mntfishproducts', 'mntsweetproducts', 'mntgoldprods', 'numdealspurchases', 'numwebpurchases', 'numcatalogpurchases', 'numstorepurchases', 'numwebvisitsmonth', 'acceptedcmp3', 'acceptedcmp4', 'acceptedcmp5', 'acceptedcmp1', 'acceptedcmp2', 'complain', 'z_costcontact', 'z_revenue', 'response']\n",
      "Columns after cleaning: ['id', 'year_birth', 'education', 'marital_status', 'income', 'kidhome', 'teenhome', 'dt_customer', 'recency', 'mntwines', 'mntfruits', 'mntmeatproducts', 'mntfishproducts', 'mntsweetproducts', 'mntgoldprods', 'numdealspurchases', 'numwebpurchases', 'numcatalogpurchases', 'numstorepurchases', 'numwebvisitsmonth', 'acceptedcmp3', 'acceptedcmp4', 'acceptedcmp5', 'acceptedcmp1', 'acceptedcmp2', 'complain', 'z_costcontact', 'z_revenue', 'response']\n"
     ]
    }
   ],
   "source": [
    "# Check exact column names\n",
    "print(\"Columns before cleaning:\", df.columns.tolist())\n",
    "\n",
    "# Clean column names to lowercase, remove spaces, standardize format\n",
    "df.columns = df.columns.str.strip().str.lower().str.replace(\" \", \"_\")\n",
    "\n",
    "# Check cleaned column names\n",
    "print(\"Columns after cleaning:\", df.columns.tolist())\n",
    "\n",
    "# Now safely convert 'income' column to numeric\n",
    "if 'income' in df.columns:\n",
    "    df['income'] = pd.to_numeric(df['income'], errors='coerce')\n",
    "else:\n",
    "    print(\"Column 'income' not found even after cleaning.\")\n"
   ]
  },
  {
   "cell_type": "code",
   "execution_count": 11,
   "id": "e84fe7a3-f59a-45d0-91a2-8f3e8eef06bf",
   "metadata": {},
   "outputs": [
    {
     "name": "stdout",
     "output_type": "stream",
     "text": [
      "\n",
      "Cleaned Data Types:\n",
      " id                              int64\n",
      "year_birth                      int64\n",
      "education                      object\n",
      "marital_status                 object\n",
      "income                        float64\n",
      "kidhome                         int64\n",
      "teenhome                        int64\n",
      "dt_customer            datetime64[ns]\n",
      "recency                         int64\n",
      "mntwines                        int64\n",
      "mntfruits                       int64\n",
      "mntmeatproducts                 int64\n",
      "mntfishproducts                 int64\n",
      "mntsweetproducts                int64\n",
      "mntgoldprods                    int64\n",
      "numdealspurchases               int64\n",
      "numwebpurchases                 int64\n",
      "numcatalogpurchases             int64\n",
      "numstorepurchases               int64\n",
      "numwebvisitsmonth               int64\n",
      "acceptedcmp3                    int64\n",
      "acceptedcmp4                    int64\n",
      "acceptedcmp5                    int64\n",
      "acceptedcmp1                    int64\n",
      "acceptedcmp2                    int64\n",
      "complain                        int64\n",
      "z_costcontact                   int64\n",
      "z_revenue                       int64\n",
      "response                        int64\n",
      "dtype: object\n",
      "\n",
      "Cleaned Dataset Preview:\n",
      "      id  year_birth   education marital_status   income  kidhome  teenhome  \\\n",
      "0  5524        1957  graduation         single  58138.0        0         0   \n",
      "1  2174        1954  graduation         single  46344.0        1         1   \n",
      "2  4141        1965  graduation       together  71613.0        0         0   \n",
      "3  6182        1984  graduation       together  26646.0        1         0   \n",
      "4  5324        1981         phd        married  58293.0        1         0   \n",
      "\n",
      "  dt_customer  recency  mntwines  ...  numwebvisitsmonth  acceptedcmp3  \\\n",
      "0  2012-09-04       58       635  ...                  7             0   \n",
      "1  2014-03-08       38        11  ...                  5             0   \n",
      "2  2013-08-21       26       426  ...                  4             0   \n",
      "3  2014-02-10       26        11  ...                  6             0   \n",
      "4  2014-01-19       94       173  ...                  5             0   \n",
      "\n",
      "   acceptedcmp4  acceptedcmp5  acceptedcmp1  acceptedcmp2  complain  \\\n",
      "0             0             0             0             0         0   \n",
      "1             0             0             0             0         0   \n",
      "2             0             0             0             0         0   \n",
      "3             0             0             0             0         0   \n",
      "4             0             0             0             0         0   \n",
      "\n",
      "   z_costcontact  z_revenue  response  \n",
      "0              3         11         1  \n",
      "1              3         11         0  \n",
      "2              3         11         0  \n",
      "3              3         11         0  \n",
      "4              3         11         0  \n",
      "\n",
      "[5 rows x 29 columns]\n"
     ]
    }
   ],
   "source": [
    "# Verify the results\n",
    "print(\"\\nCleaned Data Types:\\n\", df.dtypes)\n",
    "print(\"\\nCleaned Dataset Preview:\\n\", df.head())"
   ]
  },
  {
   "cell_type": "code",
   "execution_count": null,
   "id": "6968d3a2-30c3-4aa0-85c1-c1b0e67e5c39",
   "metadata": {},
   "outputs": [],
   "source": []
  }
 ],
 "metadata": {
  "kernelspec": {
   "display_name": "Python 3 (ipykernel)",
   "language": "python",
   "name": "python3"
  },
  "language_info": {
   "codemirror_mode": {
    "name": "ipython",
    "version": 3
   },
   "file_extension": ".py",
   "mimetype": "text/x-python",
   "name": "python",
   "nbconvert_exporter": "python",
   "pygments_lexer": "ipython3",
   "version": "3.12.4"
  }
 },
 "nbformat": 4,
 "nbformat_minor": 5
}
